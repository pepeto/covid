{
 "cells": [
  {
   "cell_type": "code",
   "execution_count": 2,
   "metadata": {},
   "outputs": [
    {
     "name": "stdout",
     "output_type": "stream",
     "text": [
      "Collecting scipy\n",
      "  Using cached https://files.pythonhosted.org/packages/53/10/776750d57ade26522478a92a2e14035868624a6a62f4157b0cc5abd4a980/scipy-1.5.2.tar.gz\n",
      "  Installing build dependencies ... \u001b[?25ldone\n",
      "\u001b[?25h  Getting requirements to build wheel ... \u001b[?25l-\r"
     ]
    },
    {
     "name": "stderr",
     "output_type": "stream",
     "text": [
      "\u001b[31m  ERROR: Complete output from command /var/mobile/Containers/Data/Application/947B3EDD-387B-45DC-A7C4-623A3EEFECBC/Library/bin/python3 /var/mobile/Containers/Data/Application/947B3EDD-387B-45DC-A7C4-623A3EEFECBC/Library/lib/python3.7/site-packages/pip/_vendor/pep517/_in_process.py get_requires_for_build_wheel /private/var/mobile/Containers/Data/Application/947B3EDD-387B-45DC-A7C4-623A3EEFECBC/tmp/tmps1qsxynw:\u001b[0m\n",
      "\r"
     ]
    },
    {
     "name": "stdout",
     "output_type": "stream",
     "text": [
      "\b \berror\n",
      "\r"
     ]
    },
    {
     "name": "stderr",
     "output_type": "stream",
     "text": [
      "\u001b[31m  ERROR: Traceback (most recent call last):\n",
      "    File \"/var/mobile/Containers/Data/Application/947B3EDD-387B-45DC-A7C4-623A3EEFECBC/Library/lib/python3.7/site-packages/pip/_vendor/pep517/_in_process.py\", line 207, in <module>\n",
      "      main()\n",
      "    File \"/var/mobile/Containers/Data/Application/947B3EDD-387B-45DC-A7C4-623A3EEFECBC/Library/lib/python3.7/site-packages/pip/_vendor/pep517/_in_process.py\", line 197, in main\n",
      "      json_out['return_val'] = hook(**hook_input['kwargs'])\n",
      "    File \"/var/mobile/Containers/Data/Application/947B3EDD-387B-45DC-A7C4-623A3EEFECBC/Library/lib/python3.7/site-packages/pip/_vendor/pep517/_in_process.py\", line 48, in get_requires_for_build_wheel\n",
      "      backend = _build_backend()\n",
      "    File \"/var/mobile/Containers/Data/Application/947B3EDD-387B-45DC-A7C4-623A3EEFECBC/Library/lib/python3.7/site-packages/pip/_vendor/pep517/_in_process.py\", line 39, in _build_backend\n",
      "      obj = getattr(obj, path_part)\n",
      "  AttributeError: module 'setuptools.build_meta' has no attribute __getattr__\n",
      "  ----------------------------------------\u001b[0m\n",
      "\u001b[31mERROR: Command \"/var/mobile/Containers/Data/Application/947B3EDD-387B-45DC-A7C4-623A3EEFECBC/Library/bin/python3 /var/mobile/Containers/Data/Application/947B3EDD-387B-45DC-A7C4-623A3EEFECBC/Library/lib/python3.7/site-packages/pip/_vendor/pep517/_in_process.py get_requires_for_build_wheel /private/var/mobile/Containers/Data/Application/947B3EDD-387B-45DC-A7C4-623A3EEFECBC/tmp/tmps1qsxynw\" failed with error code 1 in /private/var/mobile/Containers/Data/Application/947B3EDD-387B-45DC-A7C4-623A3EEFECBC/tmp/pip-install-otym24ob/scipy\u001b[0m\n",
      "\r"
     ]
    },
    {
     "name": "stdout",
     "output_type": "stream",
     "text": [
      "Note: you may need to restart the kernel to use updated packages.\n"
     ]
    }
   ],
   "source": [
    "%pip install scipy"
   ]
  },
  {
   "cell_type": "code",
   "execution_count": 1,
   "metadata": {},
   "outputs": [
    {
     "ename": "ModuleNotFoundError",
     "evalue": "No module named 'scipy'",
     "output_type": "error",
     "traceback": [
      "\u001b[0;31m---------------------------------------------------------------------------\u001b[0m",
      "\u001b[0;31mModuleNotFoundError\u001b[0m                       Traceback (most recent call last)",
      "\u001b[0;32m<ipython-input-1-5536a44106fb>\u001b[0m in \u001b[0;36m<module>\u001b[0;34m\u001b[0m\n\u001b[1;32m      1\u001b[0m \u001b[0;32mimport\u001b[0m \u001b[0mpandas\u001b[0m \u001b[0;32mas\u001b[0m \u001b[0mpd\u001b[0m\u001b[0;34m\u001b[0m\u001b[0;34m\u001b[0m\u001b[0m\n\u001b[1;32m      2\u001b[0m \u001b[0;32mimport\u001b[0m \u001b[0mnumpy\u001b[0m \u001b[0;32mas\u001b[0m \u001b[0mnp\u001b[0m\u001b[0;34m\u001b[0m\u001b[0;34m\u001b[0m\u001b[0m\n\u001b[0;32m----> 3\u001b[0;31m \u001b[0;32mimport\u001b[0m \u001b[0mscipy\u001b[0m\u001b[0;34m.\u001b[0m\u001b[0moptimize\u001b[0m \u001b[0;32mas\u001b[0m \u001b[0moptim\u001b[0m\u001b[0;34m\u001b[0m\u001b[0;34m\u001b[0m\u001b[0m\n\u001b[0m\u001b[1;32m      4\u001b[0m \u001b[0;32mimport\u001b[0m \u001b[0mmatplotlib\u001b[0m\u001b[0;34m.\u001b[0m\u001b[0mpyplot\u001b[0m \u001b[0;32mas\u001b[0m \u001b[0mplt\u001b[0m\u001b[0;34m\u001b[0m\u001b[0;34m\u001b[0m\u001b[0m\n",
      "\u001b[0;31mModuleNotFoundError\u001b[0m: No module named 'scipy'"
     ]
    }
   ],
   "source": [
    "import pandas as pd\n",
    "import numpy as np\n",
    "import scipy.optimize as optim\n",
    "import matplotlib.pyplot as plt"
   ]
  },
  {
   "cell_type": "code",
   "execution_count": 67,
   "metadata": {},
   "outputs": [
    {
     "data": {
      "text/html": [
       "<div>\n",
       "<style scoped>\n",
       "    .dataframe tbody tr th:only-of-type {\n",
       "        vertical-align: middle;\n",
       "    }\n",
       "\n",
       "    .dataframe tbody tr th {\n",
       "        vertical-align: top;\n",
       "    }\n",
       "\n",
       "    .dataframe thead th {\n",
       "        text-align: right;\n",
       "    }\n",
       "</style>\n",
       "<table border=\"1\" class=\"dataframe\">\n",
       "  <thead>\n",
       "    <tr style=\"text-align: right;\">\n",
       "      <th></th>\n",
       "      <th>timestep</th>\n",
       "      <th>total_deaths</th>\n",
       "    </tr>\n",
       "  </thead>\n",
       "  <tbody>\n",
       "    <tr>\n",
       "      <th>0</th>\n",
       "      <td>0</td>\n",
       "      <td>0</td>\n",
       "    </tr>\n",
       "    <tr>\n",
       "      <th>1</th>\n",
       "      <td>1</td>\n",
       "      <td>0</td>\n",
       "    </tr>\n",
       "    <tr>\n",
       "      <th>2</th>\n",
       "      <td>2</td>\n",
       "      <td>0</td>\n",
       "    </tr>\n",
       "    <tr>\n",
       "      <th>3</th>\n",
       "      <td>3</td>\n",
       "      <td>1</td>\n",
       "    </tr>\n",
       "    <tr>\n",
       "      <th>4</th>\n",
       "      <td>4</td>\n",
       "      <td>1</td>\n",
       "    </tr>\n",
       "    <tr>\n",
       "      <th>...</th>\n",
       "      <td>...</td>\n",
       "      <td>...</td>\n",
       "    </tr>\n",
       "    <tr>\n",
       "      <th>136</th>\n",
       "      <td>136</td>\n",
       "      <td>2490</td>\n",
       "    </tr>\n",
       "    <tr>\n",
       "      <th>137</th>\n",
       "      <td>137</td>\n",
       "      <td>2588</td>\n",
       "    </tr>\n",
       "    <tr>\n",
       "      <th>138</th>\n",
       "      <td>138</td>\n",
       "      <td>2702</td>\n",
       "    </tr>\n",
       "    <tr>\n",
       "      <th>139</th>\n",
       "      <td>139</td>\n",
       "      <td>2807</td>\n",
       "    </tr>\n",
       "    <tr>\n",
       "      <th>140</th>\n",
       "      <td>140</td>\n",
       "      <td>2893</td>\n",
       "    </tr>\n",
       "  </tbody>\n",
       "</table>\n",
       "<p>141 rows × 2 columns</p>\n",
       "</div>"
      ],
      "text/plain": [
       "     timestep  total_deaths\n",
       "0           0             0\n",
       "1           1             0\n",
       "2           2             0\n",
       "3           3             1\n",
       "4           4             1\n",
       "..        ...           ...\n",
       "136       136          2490\n",
       "137       137          2588\n",
       "138       138          2702\n",
       "139       139          2807\n",
       "140       140          2893\n",
       "\n",
       "[141 rows x 2 columns]"
      ]
     },
     "execution_count": 67,
     "metadata": {},
     "output_type": "execute_result"
    }
   ],
   "source": [
    "data = pd.read_csv('d://- Downloads//covidar ok.csv', sep=',')\n",
    "data = data['total_deaths']\n",
    "data = data.reset_index(drop=False)\n",
    "data.columns = ['timestep', 'total_deaths']\n",
    "data"
   ]
  },
  {
   "cell_type": "code",
   "execution_count": 68,
   "metadata": {},
   "outputs": [],
   "source": [
    "def my_logistic(t,a,b,c):\n",
    "    return c/(1+a*np.exp(-b*t))"
   ]
  },
  {
   "cell_type": "code",
   "execution_count": 73,
   "metadata": {},
   "outputs": [
    {
     "name": "stdout",
     "output_type": "stream",
     "text": [
      "[500, 0.03, 25000]\n",
      "762.5090451637801 0.03170593961144782 26999.999999999214\n"
     ]
    }
   ],
   "source": [
    "#p0 = np.random.exponential(size=3)\n",
    "p0 = [500, 0.03, 25000]\n",
    "print(p0)\n",
    "#bounds = (0,[1001700.,3.,1000000.])\n",
    "bounds = (0,[1700.,3.,27000.])\n",
    "x = np.array(data['timestep']) + 1\n",
    "y = np.array(data['total_deaths'])\n",
    "(a,b,c),cov = optim.curve_fit(my_logistic,x,y,bounds=bounds,p0=p0)\n",
    "print(a,b,c)"
   ]
  },
  {
   "cell_type": "code",
   "execution_count": 74,
   "metadata": {},
   "outputs": [],
   "source": [
    "a1 = 680\n",
    "b1 = 0.0321\n",
    "c1 = 24747"
   ]
  },
  {
   "cell_type": "code",
   "execution_count": 75,
   "metadata": {},
   "outputs": [
    {
     "data": {
      "text/plain": [
       "Text(0, 0.5, 'Muertes')"
      ]
     },
     "execution_count": 75,
     "metadata": {},
     "output_type": "execute_result"
    },
    {
     "data": {
      "image/png": "[encoded data removed]",
      "text/plain": [
       "<Figure size 432x288 with 1 Axes>"
      ]
     },
     "metadata": {
      "needs_background": "light"
     },
     "output_type": "display_data"
    }
   ],
   "source": [
    "#x1 = np.arange(0,200,1)\n",
    "x1 = np.arange(0,350,1)\n",
    "plt.scatter(x, y, color='red')\n",
    "plt.plot(x1, my_logistic(x1,a,b,c))\n",
    "plt.plot(x1, my_logistic(x1,a1,b1,c1), color='grey')\n",
    "plt.title('Modelo Logístico')\n",
    "plt.legend(['25-7', '23-7', 'Real'])\n",
    "plt.xlabel('Tiempo en días (140 = 25 de julio)')\n",
    "plt.ylabel('Muertes')"
   ]
  },
  {
   "cell_type": "code",
   "execution_count": 22,
   "metadata": {},
   "outputs": [
    {
     "data": {
      "text/plain": [
       "302.96614265611424"
      ]
     },
     "execution_count": 22,
     "metadata": {},
     "output_type": "execute_result"
    }
   ],
   "source": [
    "day=200\n",
    "my_logistic(day,a,b,c)-my_logistic(day-1,a,b,c)"
   ]
  },
  {
   "cell_type": "code",
   "execution_count": 23,
   "metadata": {},
   "outputs": [
    {
     "data": {
      "text/plain": [
       "232.17935912165788"
      ]
     },
     "execution_count": 23,
     "metadata": {},
     "output_type": "execute_result"
    }
   ],
   "source": [
    "np.log(a)/b"
   ]
  },
  {
   "cell_type": "markdown",
   "metadata": {},
   "source": [
    "## Pronóstico para 23 de Agosto"
   ]
  },
  {
   "cell_type": "code",
   "execution_count": 44,
   "metadata": {},
   "outputs": [
    {
     "name": "stdout",
     "output_type": "stream",
     "text": [
      "Día: 140\n",
      "Proyectado Muertos Día: 81.45668552756615\n",
      "Proyectado Muertos Tot: 2907.119193582578\n",
      "\n",
      "Pico día: 203.18046100218544\n",
      "Pico Muertos Día: 200.60777460772988\n",
      "Pico Muertos Tot: 12499.999999999996\n"
     ]
    }
   ],
   "source": [
    "day= 140\n",
    "a1 = 680\n",
    "b1 = 0.0321\n",
    "c1 = 25000\n",
    "print(\"Día:\", day)\n",
    "print(\"Proyectado Muertos Día:\", my_logistic(day,a1,b1,c1)-my_logistic(day-1,a1,b1,c1))\n",
    "print(\"Proyectado Muertos Tot:\", my_logistic(day,a1,b1,c1))\n",
    "print(\"\")\n",
    "print(\"Pico día:\", np.log(a1)/b1)\n",
    "print(\"Pico Muertos Día:\", my_logistic(np.log(a1)/b1,a1,b1,c1)-my_logistic(np.log(a1)/b1-1,a1,b1,c1))\n",
    "print(\"Pico Muertos Tot:\", my_logistic(np.log(a1)/b1,a1,b1,c1))\n"
   ]
  },
  {
   "cell_type": "code",
   "execution_count": null,
   "metadata": {},
   "outputs": [],
   "source": []
  }
 ],
 "metadata": {
  "kernelspec": {
   "display_name": "Python 3",
   "language": "python",
   "name": "python3"
  },
  "language_info": {
   "codemirror_mode": {
    "name": "ipython",
    "version": 3
   },
   "file_extension": ".py",
   "mimetype": "text/x-python",
   "name": "python",
   "nbconvert_exporter": "python",
   "pygments_lexer": "ipython3",
   "version": "3.7.1"
  }
 },
 "nbformat": 4,
 "nbformat_minor": 4
}
