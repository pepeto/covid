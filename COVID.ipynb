{
  "nbformat": 4,
  "nbformat_minor": 0,
  "metadata": {
    "kernelspec": {
      "display_name": "Python 3",
      "language": "python",
      "name": "python3"
    },
    "language_info": {
      "codemirror_mode": {
        "name": "ipython",
        "version": 3
      },
      "file_extension": ".py",
      "mimetype": "text/x-python",
      "name": "python",
      "nbconvert_exporter": "python",
      "pygments_lexer": "ipython3",
      "version": "3.7.1"
    },
    "colab": {
      "name": "COVID.ipynb",
      "provenance": []
    }
  },
  "cells": [
    {
      "cell_type": "code",
      "metadata": {
        "id": "pmk1eREmIVym",
        "colab_type": "code",
        "colab": {
          "base_uri": "https://localhost:8080/",
          "height": 124
        },
        "outputId": "a92ed88b-fc45-4bb1-c4d2-c6afe47377c6"
      },
      "source": [
        "import pandas as pd\n",
        "import numpy as np\n",
        "import scipy.optimize as optim\n",
        "import matplotlib.pyplot as plt\n",
        "from google.colab import drive\n",
        "drive.mount('/content/gdrive')"
      ],
      "execution_count": 2,
      "outputs": [
        {
          "output_type": "stream",
          "text": [
            "Go to this URL in a browser: https://accounts.google.com/o/oauth2/auth?client_id=947318989803-6bn6qk8qdgf4n4g3pfee6491hc0brc4i.apps.googleusercontent.com&redirect_uri=urn%3aietf%3awg%3aoauth%3a2.0%3aoob&response_type=code&scope=email%20https%3a%2f%2fwww.googleapis.com%2fauth%2fdocs.test%20https%3a%2f%2fwww.googleapis.com%2fauth%2fdrive%20https%3a%2f%2fwww.googleapis.com%2fauth%2fdrive.photos.readonly%20https%3a%2f%2fwww.googleapis.com%2fauth%2fpeopleapi.readonly\n",
            "\n",
            "Enter your authorization code:\n",
            "··········\n",
            "Mounted at /content/gdrive\n"
          ],
          "name": "stdout"
        }
      ]
    },
    {
      "cell_type": "code",
      "metadata": {
        "id": "BJ2jDr5rIVyo",
        "colab_type": "code",
        "colab": {
          "base_uri": "https://localhost:8080/",
          "height": 415
        },
        "outputId": "07cadbc9-bbc7-4e99-e70d-20ddd6af120f"
      },
      "source": [
        "data = pd.read_csv('gdrive/My Drive/Working/Jupyter Notebooks/Data/covidar.csv', sep=',')\n",
        "data = data[['date', 'total_deaths']]\n",
        "\n",
        "data = data.reset_index(drop=False)\n",
        "data.columns = ['timestep', 'date', 'total_deaths']\n",
        "data"
      ],
      "execution_count": 13,
      "outputs": [
        {
          "output_type": "execute_result",
          "data": {
            "text/html": [
              "<div>\n",
              "<style scoped>\n",
              "    .dataframe tbody tr th:only-of-type {\n",
              "        vertical-align: middle;\n",
              "    }\n",
              "\n",
              "    .dataframe tbody tr th {\n",
              "        vertical-align: top;\n",
              "    }\n",
              "\n",
              "    .dataframe thead th {\n",
              "        text-align: right;\n",
              "    }\n",
              "</style>\n",
              "<table border=\"1\" class=\"dataframe\">\n",
              "  <thead>\n",
              "    <tr style=\"text-align: right;\">\n",
              "      <th></th>\n",
              "      <th>timestep</th>\n",
              "      <th>date</th>\n",
              "      <th>total_deaths</th>\n",
              "    </tr>\n",
              "  </thead>\n",
              "  <tbody>\n",
              "    <tr>\n",
              "      <th>0</th>\n",
              "      <td>0</td>\n",
              "      <td>3/4/2020</td>\n",
              "      <td>0</td>\n",
              "    </tr>\n",
              "    <tr>\n",
              "      <th>1</th>\n",
              "      <td>1</td>\n",
              "      <td>3/6/2020</td>\n",
              "      <td>0</td>\n",
              "    </tr>\n",
              "    <tr>\n",
              "      <th>2</th>\n",
              "      <td>2</td>\n",
              "      <td>3/7/2020</td>\n",
              "      <td>0</td>\n",
              "    </tr>\n",
              "    <tr>\n",
              "      <th>3</th>\n",
              "      <td>3</td>\n",
              "      <td>3/8/2020</td>\n",
              "      <td>1</td>\n",
              "    </tr>\n",
              "    <tr>\n",
              "      <th>4</th>\n",
              "      <td>4</td>\n",
              "      <td>3/9/2020</td>\n",
              "      <td>1</td>\n",
              "    </tr>\n",
              "    <tr>\n",
              "      <th>...</th>\n",
              "      <td>...</td>\n",
              "      <td>...</td>\n",
              "      <td>...</td>\n",
              "    </tr>\n",
              "    <tr>\n",
              "      <th>138</th>\n",
              "      <td>138</td>\n",
              "      <td>7/23/2020</td>\n",
              "      <td>2702</td>\n",
              "    </tr>\n",
              "    <tr>\n",
              "      <th>139</th>\n",
              "      <td>139</td>\n",
              "      <td>7/24/2020</td>\n",
              "      <td>2807</td>\n",
              "    </tr>\n",
              "    <tr>\n",
              "      <th>140</th>\n",
              "      <td>140</td>\n",
              "      <td>7/25/2020</td>\n",
              "      <td>2893</td>\n",
              "    </tr>\n",
              "    <tr>\n",
              "      <th>141</th>\n",
              "      <td>141</td>\n",
              "      <td>7/26/2020</td>\n",
              "      <td>2939</td>\n",
              "    </tr>\n",
              "    <tr>\n",
              "      <th>142</th>\n",
              "      <td>142</td>\n",
              "      <td>7/27/2020</td>\n",
              "      <td>3059</td>\n",
              "    </tr>\n",
              "  </tbody>\n",
              "</table>\n",
              "<p>143 rows × 3 columns</p>\n",
              "</div>"
            ],
            "text/plain": [
              "     timestep       date  total_deaths\n",
              "0           0   3/4/2020             0\n",
              "1           1   3/6/2020             0\n",
              "2           2   3/7/2020             0\n",
              "3           3   3/8/2020             1\n",
              "4           4   3/9/2020             1\n",
              "..        ...        ...           ...\n",
              "138       138  7/23/2020          2702\n",
              "139       139  7/24/2020          2807\n",
              "140       140  7/25/2020          2893\n",
              "141       141  7/26/2020          2939\n",
              "142       142  7/27/2020          3059\n",
              "\n",
              "[143 rows x 3 columns]"
            ]
          },
          "metadata": {
            "tags": []
          },
          "execution_count": 13
        }
      ]
    },
    {
      "cell_type": "code",
      "metadata": {
        "id": "45_KiHXkIVyr",
        "colab_type": "code",
        "colab": {}
      },
      "source": [
        "def my_logistic(t,a,b,c):\n",
        "    return c/(1+a*np.exp(-b*t))"
      ],
      "execution_count": 5,
      "outputs": []
    },
    {
      "cell_type": "code",
      "metadata": {
        "id": "KHAFN5MyIVyv",
        "colab_type": "code",
        "colab": {
          "base_uri": "https://localhost:8080/",
          "height": 52
        },
        "outputId": "1fa5a672-f5a2-4ac2-9391-4023aae59a65"
      },
      "source": [
        "#p0 = np.random.exponential(size=3)\n",
        "p0 = [500, 0.03, 25000]\n",
        "print(p0)\n",
        "#bounds = (0,[1001700.,3.,1000000.])\n",
        "bounds = (0,[1700.,3.,27000.])\n",
        "x = np.array(data['timestep']) + 1\n",
        "y = np.array(data['total_deaths'])\n",
        "(a,b,c),cov = optim.curve_fit(my_logistic,x,y,bounds=bounds,p0=p0)\n",
        "print(a,b,c)"
      ],
      "execution_count": 6,
      "outputs": [
        {
          "output_type": "stream",
          "text": [
            "[500, 0.03, 25000]\n",
            "782.6057623681215 0.03194434736762083 26999.99999999984\n"
          ],
          "name": "stdout"
        }
      ]
    },
    {
      "cell_type": "code",
      "metadata": {
        "id": "tkLH-5RoIVyz",
        "colab_type": "code",
        "colab": {
          "base_uri": "https://localhost:8080/",
          "height": 35
        },
        "outputId": "a6010e57-d4b1-4600-c3ab-793da499ca89"
      },
      "source": [
        "a1 = 680\n",
        "b1 = 0.0321\n",
        "c1 = 24747\n",
        "data[\"date\"].iloc[-1]"
      ],
      "execution_count": 15,
      "outputs": [
        {
          "output_type": "execute_result",
          "data": {
            "application/vnd.google.colaboratory.intrinsic+json": {
              "type": "string"
            },
            "text/plain": [
              "'7/27/2020'"
            ]
          },
          "metadata": {
            "tags": []
          },
          "execution_count": 15
        }
      ]
    },
    {
      "cell_type": "code",
      "metadata": {
        "id": "MBFJ2sSdIVy2",
        "colab_type": "code",
        "colab": {
          "base_uri": "https://localhost:8080/",
          "height": 331
        },
        "outputId": "580c110a-33e7-4b21-ce12-15309884ac28"
      },
      "source": [
        "#x1 = np.arange(0,200,1)\n",
        "x1 = np.arange(0,350,1)\n",
        "plt.scatter(x, y, color='red')\n",
        "plt.plot(x1, my_logistic(x1,a,b,c))\n",
        "plt.plot(x1, my_logistic(x1,a1,b1,c1), color='grey')\n",
        "plt.title('Modelo Logístico')\n",
        "plt.legend(['25-7', '23-7', 'Real'])\n",
        "label = \"Tiempo en días (\" + str(data[\"timestep\"].iloc[-1]) + ' = ' + str(data[\"date\"].iloc[-1]) + ')'\n",
        "plt.xlabel(label)\n",
        "plt.ylabel('Muertes')"
      ],
      "execution_count": 27,
      "outputs": [
        {
          "output_type": "stream",
          "text": [
            "Tiempo en días (142 = 7/27/2020)\n"
          ],
          "name": "stdout"
        },
        {
          "output_type": "execute_result",
          "data": {
            "text/plain": [
              "Text(0, 0.5, 'Muertes')"
            ]
          },
          "metadata": {
            "tags": []
          },
          "execution_count": 27
        },
        {
          "output_type": "display_data",
          "data": {
            "image/png": "[encoded data removed]",
            "text/plain": [
              "<Figure size 432x288 with 1 Axes>"
            ]
          },
          "metadata": {
            "tags": [],
            "needs_background": "light"
          }
        }
      ]
    },
    {
      "cell_type": "code",
      "metadata": {
        "id": "H5E8iTG_IVy4",
        "colab_type": "code",
        "colab": {
          "base_uri": "https://localhost:8080/",
          "height": 35
        },
        "outputId": "c7c97ab8-2346-4100-d17a-620b7a1a4edc"
      },
      "source": [
        "day=200\n",
        "my_logistic(day,a,b,c)-my_logistic(day-1,a,b,c)"
      ],
      "execution_count": 9,
      "outputs": [
        {
          "output_type": "execute_result",
          "data": {
            "text/plain": [
              "211.15758002585608"
            ]
          },
          "metadata": {
            "tags": []
          },
          "execution_count": 9
        }
      ]
    },
    {
      "cell_type": "code",
      "metadata": {
        "id": "u212pltnIVy7",
        "colab_type": "code",
        "colab": {
          "base_uri": "https://localhost:8080/",
          "height": 35
        },
        "outputId": "0937f81e-b7cb-4c88-f65d-1b79c956994f"
      },
      "source": [
        "np.log(a)/b"
      ],
      "execution_count": 10,
      "outputs": [
        {
          "output_type": "execute_result",
          "data": {
            "text/plain": [
              "208.56989176151617"
            ]
          },
          "metadata": {
            "tags": []
          },
          "execution_count": 10
        }
      ]
    },
    {
      "cell_type": "code",
      "metadata": {
        "id": "hXgW0FySJ-h_",
        "colab_type": "code",
        "colab": {}
      },
      "source": [
        ""
      ],
      "execution_count": null,
      "outputs": []
    },
    {
      "cell_type": "markdown",
      "metadata": {
        "id": "Skso4hsGIVy9",
        "colab_type": "text"
      },
      "source": [
        "## Pronóstico"
      ]
    },
    {
      "cell_type": "code",
      "metadata": {
        "id": "kM1eBPWLIVy-",
        "colab_type": "code",
        "colab": {
          "base_uri": "https://localhost:8080/",
          "height": 295
        },
        "outputId": "bf61c260-69a7-4d21-c47d-8697cdedaa1c"
      },
      "source": [
        "day= 142\n",
        "a1 = 680\n",
        "b1 = 0.0321\n",
        "c1 = 25000\n",
        "print(\"Día:\", day)\n",
        "print(\"Proyectado Muertos Día:\", my_logistic(day,a1,b1,c1)-my_logistic(day-1,a1,b1,c1))\n",
        "print(\"Proyectado Muertos Tot:\", my_logistic(day,a1,b1,c1))\n",
        "print(\"\")\n",
        "print(\"Pico día:\", np.log(a1)/b1)\n",
        "print(\"Pico Muertos Día:\", my_logistic(np.log(a1)/b1,a1,b1,c1)-my_logistic(np.log(a1)/b1-1,a1,b1,c1))\n",
        "print(\"Pico Muertos Tot:\", my_logistic(np.log(a1)/b1,a1,b1,c1))\n",
        "print(\"\")\n",
        "print(\"-- Nueva Predicción Ajustada\")\n",
        "print(\"Día:\", day)\n",
        "print(\"Proyectado Muertos Día:\", my_logistic(day,a,b,c)-my_logistic(day-1,a,b,c))\n",
        "print(\"Proyectado Muertos Tot:\", my_logistic(day,a,b,c))\n",
        "print(\"\")\n",
        "print(\"Pico día:\", np.log(a)/b)\n",
        "print(\"Pico Muertos Día:\", my_logistic(np.log(a)/b,a,b,c)-my_logistic(np.log(a)/b-1,a,b,c))\n",
        "print(\"Pico Muertos Tot:\", my_logistic(np.log(a)/b,a,b,c))\n",
        "\n"
      ],
      "execution_count": 12,
      "outputs": [
        {
          "output_type": "stream",
          "text": [
            "Día: 142\n",
            "Proyectado Muertos Día: 85.5519931740223\n",
            "Proyectado Muertos Tot: 3076.1593664663305\n",
            "\n",
            "Pico día: 203.18046100218544\n",
            "Pico Muertos Día: 200.60777460772988\n",
            "Pico Muertos Tot: 12499.999999999996\n",
            "\n",
            "-- Nueva Predicción Ajustada\n",
            "Día: 142\n",
            "Proyectado Muertos Día: 81.07771255982834\n",
            "Proyectado Muertos Tot: 2876.7067542977843\n",
            "\n",
            "Pico día: 208.56989176151617\n",
            "Pico Muertos Día: 215.60601060292174\n",
            "Pico Muertos Tot: 13499.99999999992\n"
          ],
          "name": "stdout"
        }
      ]
    },
    {
      "cell_type": "code",
      "metadata": {
        "id": "rLFl_3qRIVzC",
        "colab_type": "code",
        "colab": {}
      },
      "source": [
        ""
      ],
      "execution_count": null,
      "outputs": []
    }
  ]
}