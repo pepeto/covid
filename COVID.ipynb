{
  "nbformat": 4,
  "nbformat_minor": 0,
  "metadata": {
    "kernelspec": {
      "display_name": "Python 3",
      "language": "python",
      "name": "python3"
    },
    "language_info": {
      "codemirror_mode": {
        "name": "ipython",
        "version": 3
      },
      "file_extension": ".py",
      "mimetype": "text/x-python",
      "name": "python",
      "nbconvert_exporter": "python",
      "pygments_lexer": "ipython3",
      "version": "3.7.1"
    },
    "colab": {
      "name": "COVID.ipynb",
      "provenance": []
    }
  },
  "cells": [
    {
      "cell_type": "code",
      "metadata": {
        "id": "pmk1eREmIVym",
        "colab_type": "code",
        "colab": {
          "base_uri": "https://localhost:8080/",
          "height": 122
        },
        "outputId": "42dda2a0-a329-4162-f1e4-b0adca047b93"
      },
      "source": [
        "import pandas as pd\n",
        "import numpy as np\n",
        "import scipy.optimize as optim\n",
        "import matplotlib.pyplot as plt\n",
        "from google.colab import drive\n",
        "drive.mount('/content/gdrive')\n",
        "# 4/2gGpUlqgg9NPy4-f5xgIYXUkGWlIFWxVN8TqtKPi78q9-Fz2FLk_ejc"
      ],
      "execution_count": 1,
      "outputs": [
        {
          "output_type": "stream",
          "text": [
            "Go to this URL in a browser: https://accounts.google.com/o/oauth2/auth?client_id=947318989803-6bn6qk8qdgf4n4g3pfee6491hc0brc4i.apps.googleusercontent.com&redirect_uri=urn%3aietf%3awg%3aoauth%3a2.0%3aoob&response_type=code&scope=email%20https%3a%2f%2fwww.googleapis.com%2fauth%2fdocs.test%20https%3a%2f%2fwww.googleapis.com%2fauth%2fdrive%20https%3a%2f%2fwww.googleapis.com%2fauth%2fdrive.photos.readonly%20https%3a%2f%2fwww.googleapis.com%2fauth%2fpeopleapi.readonly\n",
            "\n",
            "Enter your authorization code:\n",
            "··········\n",
            "Mounted at /content/gdrive\n"
          ],
          "name": "stdout"
        }
      ]
    },
    {
      "cell_type": "code",
      "metadata": {
        "id": "BJ2jDr5rIVyo",
        "colab_type": "code",
        "colab": {
          "base_uri": "https://localhost:8080/",
          "height": 419
        },
        "outputId": "e8f6df3b-04f9-426f-d0df-e34373ca88ac"
      },
      "source": [
        "data = pd.read_csv('gdrive/My Drive/Working/Jupyter Notebooks/Data/covidar.csv', sep=',')\n",
        "data = data[['date', 'total_deaths']]\n",
        "\n",
        "data = data.reset_index(drop=False)\n",
        "data.columns = ['timestep', 'date', 'total_deaths']\n",
        "data"
      ],
      "execution_count": 2,
      "outputs": [
        {
          "output_type": "execute_result",
          "data": {
            "text/html": [
              "<div>\n",
              "<style scoped>\n",
              "    .dataframe tbody tr th:only-of-type {\n",
              "        vertical-align: middle;\n",
              "    }\n",
              "\n",
              "    .dataframe tbody tr th {\n",
              "        vertical-align: top;\n",
              "    }\n",
              "\n",
              "    .dataframe thead th {\n",
              "        text-align: right;\n",
              "    }\n",
              "</style>\n",
              "<table border=\"1\" class=\"dataframe\">\n",
              "  <thead>\n",
              "    <tr style=\"text-align: right;\">\n",
              "      <th></th>\n",
              "      <th>timestep</th>\n",
              "      <th>date</th>\n",
              "      <th>total_deaths</th>\n",
              "    </tr>\n",
              "  </thead>\n",
              "  <tbody>\n",
              "    <tr>\n",
              "      <th>0</th>\n",
              "      <td>0</td>\n",
              "      <td>3/4/2020</td>\n",
              "      <td>0</td>\n",
              "    </tr>\n",
              "    <tr>\n",
              "      <th>1</th>\n",
              "      <td>1</td>\n",
              "      <td>3/6/2020</td>\n",
              "      <td>0</td>\n",
              "    </tr>\n",
              "    <tr>\n",
              "      <th>2</th>\n",
              "      <td>2</td>\n",
              "      <td>3/7/2020</td>\n",
              "      <td>0</td>\n",
              "    </tr>\n",
              "    <tr>\n",
              "      <th>3</th>\n",
              "      <td>3</td>\n",
              "      <td>3/8/2020</td>\n",
              "      <td>1</td>\n",
              "    </tr>\n",
              "    <tr>\n",
              "      <th>4</th>\n",
              "      <td>4</td>\n",
              "      <td>3/9/2020</td>\n",
              "      <td>1</td>\n",
              "    </tr>\n",
              "    <tr>\n",
              "      <th>...</th>\n",
              "      <td>...</td>\n",
              "      <td>...</td>\n",
              "      <td>...</td>\n",
              "    </tr>\n",
              "    <tr>\n",
              "      <th>145</th>\n",
              "      <td>145</td>\n",
              "      <td>7/30/2020</td>\n",
              "      <td>3441</td>\n",
              "    </tr>\n",
              "    <tr>\n",
              "      <th>146</th>\n",
              "      <td>146</td>\n",
              "      <td>7/31/2020</td>\n",
              "      <td>3543</td>\n",
              "    </tr>\n",
              "    <tr>\n",
              "      <th>147</th>\n",
              "      <td>147</td>\n",
              "      <td>8/1/2020</td>\n",
              "      <td>3596</td>\n",
              "    </tr>\n",
              "    <tr>\n",
              "      <th>148</th>\n",
              "      <td>148</td>\n",
              "      <td>8/2/2020</td>\n",
              "      <td>3648</td>\n",
              "    </tr>\n",
              "    <tr>\n",
              "      <th>149</th>\n",
              "      <td>149</td>\n",
              "      <td>8/3/2020</td>\n",
              "      <td>3813</td>\n",
              "    </tr>\n",
              "  </tbody>\n",
              "</table>\n",
              "<p>150 rows × 3 columns</p>\n",
              "</div>"
            ],
            "text/plain": [
              "     timestep       date  total_deaths\n",
              "0           0   3/4/2020             0\n",
              "1           1   3/6/2020             0\n",
              "2           2   3/7/2020             0\n",
              "3           3   3/8/2020             1\n",
              "4           4   3/9/2020             1\n",
              "..        ...        ...           ...\n",
              "145       145  7/30/2020          3441\n",
              "146       146  7/31/2020          3543\n",
              "147       147   8/1/2020          3596\n",
              "148       148   8/2/2020          3648\n",
              "149       149   8/3/2020          3813\n",
              "\n",
              "[150 rows x 3 columns]"
            ]
          },
          "metadata": {
            "tags": []
          },
          "execution_count": 2
        }
      ]
    },
    {
      "cell_type": "code",
      "metadata": {
        "id": "45_KiHXkIVyr",
        "colab_type": "code",
        "colab": {}
      },
      "source": [
        "def my_logistic(t,a,b,c):\n",
        "    return c/(1+a*np.exp(-b*t))"
      ],
      "execution_count": 3,
      "outputs": []
    },
    {
      "cell_type": "code",
      "metadata": {
        "id": "KHAFN5MyIVyv",
        "colab_type": "code",
        "colab": {
          "base_uri": "https://localhost:8080/",
          "height": 51
        },
        "outputId": "1bf459fc-06ad-48aa-f2ab-49ba2a997788"
      },
      "source": [
        "#p0 = np.random.exponential(size=3)\n",
        "p0 = [500, 0.03, 25000]\n",
        "print(p0)\n",
        "#bounds = (0,[1001700.,3.,1000000.])\n",
        "bounds = (0,[2500.,3.,27000.])\n",
        "x = np.array(data['timestep']) + 1\n",
        "y = np.array(data['total_deaths'])\n",
        "(a,b,c),cov = optim.curve_fit(my_logistic,x,y,bounds=bounds,p0=p0)\n",
        "print(a,b,c)"
      ],
      "execution_count": 4,
      "outputs": [
        {
          "output_type": "stream",
          "text": [
            "[500, 0.03, 25000]\n",
            "878.1901051385369 0.03295839373820414 26999.999999999975\n"
          ],
          "name": "stdout"
        }
      ]
    },
    {
      "cell_type": "code",
      "metadata": {
        "id": "tkLH-5RoIVyz",
        "colab_type": "code",
        "colab": {
          "base_uri": "https://localhost:8080/",
          "height": 35
        },
        "outputId": "d2e536c6-4ef1-4753-952b-cb263879fa64"
      },
      "source": [
        "a1 = 680\n",
        "b1 = 0.0321\n",
        "c1 = 24747\n",
        "data[\"date\"].iloc[-1]"
      ],
      "execution_count": 5,
      "outputs": [
        {
          "output_type": "execute_result",
          "data": {
            "application/vnd.google.colaboratory.intrinsic+json": {
              "type": "string"
            },
            "text/plain": [
              "'8/3/2020'"
            ]
          },
          "metadata": {
            "tags": []
          },
          "execution_count": 5
        }
      ]
    },
    {
      "cell_type": "code",
      "metadata": {
        "id": "MBFJ2sSdIVy2",
        "colab_type": "code",
        "colab": {
          "base_uri": "https://localhost:8080/",
          "height": 313
        },
        "outputId": "879566cc-850d-457a-8467-ff8a7823a2cc"
      },
      "source": [
        "#x1 = np.arange(0,200,1)\n",
        "x1 = np.arange(0,350,1)\n",
        "plt.scatter(x, y, color='red')\n",
        "plt.plot(x1, my_logistic(x1,a,b,c))\n",
        "plt.plot(x1, my_logistic(x1,a1,b1,c1), color='grey')\n",
        "plt.title('Modelo Logístico')\n",
        "plt.legend([str(data[\"date\"].iloc[-1]), '7/23/2020', 'Real'])\n",
        "label = \"Tiempo en días (\" + str(data[\"timestep\"].iloc[-1]) + ' = ' + str(data[\"date\"].iloc[-1]) + ')'\n",
        "plt.xlabel(label)\n",
        "plt.ylabel('Muertes')"
      ],
      "execution_count": 6,
      "outputs": [
        {
          "output_type": "execute_result",
          "data": {
            "text/plain": [
              "Text(0, 0.5, 'Muertes')"
            ]
          },
          "metadata": {
            "tags": []
          },
          "execution_count": 6
        },
        {
          "output_type": "display_data",
          "data": {
            "image/png": "[encoded data removed]",
            "text/plain": [
              "<Figure size 432x288 with 1 Axes>"
            ]
          },
          "metadata": {
            "tags": [],
            "needs_background": "light"
          }
        }
      ]
    },
    {
      "cell_type": "code",
      "metadata": {
        "id": "H5E8iTG_IVy4",
        "colab_type": "code",
        "colab": {
          "base_uri": "https://localhost:8080/",
          "height": 34
        },
        "outputId": "cf1a6c64-62ad-4732-e254-a11a3949a2bf"
      },
      "source": [
        "day=200\n",
        "my_logistic(day,a,b,c)-my_logistic(day-1,a,b,c)"
      ],
      "execution_count": 7,
      "outputs": [
        {
          "output_type": "execute_result",
          "data": {
            "text/plain": [
              "220.19553218032343"
            ]
          },
          "metadata": {
            "tags": []
          },
          "execution_count": 7
        }
      ]
    },
    {
      "cell_type": "code",
      "metadata": {
        "id": "u212pltnIVy7",
        "colab_type": "code",
        "colab": {
          "base_uri": "https://localhost:8080/",
          "height": 34
        },
        "outputId": "a99e3a8f-97ad-4e0c-dcc7-79d93e825abb"
      },
      "source": [
        "np.log(a)/b"
      ],
      "execution_count": 8,
      "outputs": [
        {
          "output_type": "execute_result",
          "data": {
            "text/plain": [
              "205.64907212089594"
            ]
          },
          "metadata": {
            "tags": []
          },
          "execution_count": 8
        }
      ]
    },
    {
      "cell_type": "code",
      "metadata": {
        "id": "hXgW0FySJ-h_",
        "colab_type": "code",
        "colab": {}
      },
      "source": [
        ""
      ],
      "execution_count": 8,
      "outputs": []
    },
    {
      "cell_type": "markdown",
      "metadata": {
        "id": "Skso4hsGIVy9",
        "colab_type": "text"
      },
      "source": [
        "## Pronóstico"
      ]
    },
    {
      "cell_type": "code",
      "metadata": {
        "id": "kM1eBPWLIVy-",
        "colab_type": "code",
        "colab": {
          "base_uri": "https://localhost:8080/",
          "height": 289
        },
        "outputId": "941cc572-5131-401b-8227-62d39c2b85c3"
      },
      "source": [
        "day= 175\n",
        "a1 = 680\n",
        "b1 = 0.0321\n",
        "c1 = 25000\n",
        "print(\"Día:\", day)\n",
        "print(\"Proyectado Muertos Día:\", my_logistic(day,a1,b1,c1)-my_logistic(day-1,a1,b1,c1))\n",
        "print(\"Proyectado Muertos Tot:\", my_logistic(day,a1,b1,c1))\n",
        "print(\"\")\n",
        "print(\"Pico día:\", np.log(a1)/b1)\n",
        "print(\"Pico Muertos Día:\", my_logistic(np.log(a1)/b1,a1,b1,c1)-my_logistic(np.log(a1)/b1-1,a1,b1,c1))\n",
        "print(\"Pico Muertos Tot:\", my_logistic(np.log(a1)/b1,a1,b1,c1))\n",
        "print(\"\")\n",
        "print(\"-- Nueva Predicción Ajustada\")\n",
        "print(\"Día:\", day)\n",
        "print(\"Proyectado Muertos Día:\", my_logistic(day,a,b,c)-my_logistic(day-1,a,b,c))\n",
        "print(\"Proyectado Muertos Tot:\", my_logistic(day,a,b,c))\n",
        "print(\"\")\n",
        "print(\"Pico día:\", np.log(a)/b)\n",
        "print(\"Pico Muertos Día:\", my_logistic(np.log(a)/b,a,b,c)-my_logistic(np.log(a)/b-1,a,b,c))\n",
        "print(\"Pico Muertos Tot:\", my_logistic(np.log(a)/b,a,b,c))\n",
        "\n"
      ],
      "execution_count": 9,
      "outputs": [
        {
          "output_type": "stream",
          "text": [
            "Día: 175\n",
            "Proyectado Muertos Día: 163.46813452613787\n",
            "Proyectado Muertos Tot: 7202.689778255379\n",
            "\n",
            "Pico día: 203.18046100218544\n",
            "Pico Muertos Día: 200.60777460772988\n",
            "Pico Muertos Tot: 12499.999999999996\n",
            "\n",
            "-- Nueva Predicción Ajustada\n",
            "Día: 175\n",
            "Proyectado Muertos Día: 172.7957187471511\n",
            "Proyectado Muertos Tot: 7207.694121929624\n",
            "\n",
            "Pico día: 205.64907212089594\n",
            "Pico Muertos Día: 222.44902172060574\n",
            "Pico Muertos Tot: 13499.999999999989\n"
          ],
          "name": "stdout"
        }
      ]
    },
    {
      "cell_type": "code",
      "metadata": {
        "id": "rLFl_3qRIVzC",
        "colab_type": "code",
        "colab": {}
      },
      "source": [
        ""
      ],
      "execution_count": null,
      "outputs": []
    }
  ]
}